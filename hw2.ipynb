{
 "cells": [
  {
   "cell_type": "markdown",
   "metadata": {},
   "source": [
    "# Merged sorted stream"
   ]
  },
  {
   "cell_type": "code",
   "execution_count": 1,
   "metadata": {},
   "outputs": [],
   "source": [
    "def merge_sorted_stream(*streams):\n",
    "    \"\"\"\n",
    "    This function takes multiple SORTED generators as parametes and merge them as one sorted generator.\n",
    "    \"\"\"\n",
    "    import sys\n",
    "    its = [iter(stream) for stream in streams]\n",
    "    num_lists = []              # store numbers into lists\n",
    "    for i in range(len(its)):\n",
    "        it = its[i]\n",
    "        lst = []\n",
    "        while True:\n",
    "            try:\n",
    "                lst.append(next(it))\n",
    "            except StopIteration:\n",
    "                num_lists.append(lst)\n",
    "                break\n",
    "    \n",
    "    while True:\n",
    "        num_min = sys.maxsize\n",
    "        id_min = 0               # the id of min number\n",
    "        flag = True              # if we reached the end (all lists empty)\n",
    "        for i in range(len(num_lists)):\n",
    "            lst = num_lists[i]\n",
    "            if len(lst) == 0:    # if this list is empty, pass\n",
    "                continue\n",
    "            elif lst[0] < num_min:\n",
    "                num_min = lst[0]\n",
    "                id_min = i\n",
    "                flag = False\n",
    "        if flag:  # flag unchanged: the end\n",
    "            break\n",
    "        del num_lists[id_min][0]\n",
    "        yield num_min"
   ]
  },
  {
   "cell_type": "code",
   "execution_count": 2,
   "metadata": {},
   "outputs": [],
   "source": [
    "stream1 = range(0,10,2)\n",
    "stream2 = range(1,10,2)"
   ]
  },
  {
   "cell_type": "code",
   "execution_count": 3,
   "metadata": {
    "scrolled": true
   },
   "outputs": [
    {
     "name": "stdout",
     "output_type": "stream",
     "text": [
      "0\n",
      "1\n",
      "2\n",
      "3\n",
      "4\n",
      "5\n",
      "6\n",
      "7\n",
      "8\n",
      "9\n"
     ]
    }
   ],
   "source": [
    "for x in merge_sorted_stream(stream1, stream2):\n",
    "    print(x)"
   ]
  },
  {
   "cell_type": "code",
   "execution_count": 4,
   "metadata": {},
   "outputs": [
    {
     "name": "stdout",
     "output_type": "stream",
     "text": [
      "0\n",
      "0\n",
      "1\n",
      "2\n",
      "3\n",
      "3\n",
      "4\n",
      "5\n",
      "6\n",
      "6\n",
      "7\n",
      "8\n",
      "9\n",
      "9\n",
      "12\n",
      "15\n",
      "18\n"
     ]
    }
   ],
   "source": [
    "stream3 = range(0,20,3)\n",
    "for x in merge_sorted_stream(stream1, stream2, stream3):\n",
    "    print(x)"
   ]
  },
  {
   "cell_type": "code",
   "execution_count": 5,
   "metadata": {},
   "outputs": [],
   "source": [
    "stream4 = range(0)  # corner case\n",
    "for x in merge_sorted_stream(stream4):\n",
    "    print(x)"
   ]
  },
  {
   "cell_type": "markdown",
   "metadata": {},
   "source": [
    "# Tree traversal"
   ]
  },
  {
   "cell_type": "code",
   "execution_count": 6,
   "metadata": {},
   "outputs": [],
   "source": [
    "class TreeNode:\n",
    "    \"\"\"\n",
    "    This is a binomial tree class that has 3 traversal methods.\n",
    "    \"\"\"\n",
    "    \n",
    "    def __init__(self, val):\n",
    "        self.val = val\n",
    "        self.left = None\n",
    "        self.right = None\n",
    "    \n",
    "    def in_order(self):\n",
    "        if self.left:\n",
    "            yield from self.left.in_order()\n",
    "        yield str(self.val)\n",
    "        if self.right:\n",
    "            yield from self.right.in_order()\n",
    "    \n",
    "    def pre_order(self):\n",
    "        yield str(self.val)\n",
    "        if self.left:\n",
    "            yield from self.left.in_order()\n",
    "        if self.right:\n",
    "            yield from self.right.in_order()\n",
    "    \n",
    "    def post_order(self):\n",
    "        if self.left:\n",
    "            yield from self.left.in_order()\n",
    "        if self.right:\n",
    "            yield from self.right.in_order()\n",
    "        yield str(self.val)"
   ]
  },
  {
   "cell_type": "code",
   "execution_count": 7,
   "metadata": {},
   "outputs": [],
   "source": [
    "root = TreeNode(1)\n",
    "root.left = TreeNode(2)\n",
    "root.right = TreeNode(3)\n",
    "root.left.left = TreeNode(4)\n",
    "root.left.right = TreeNode(5)"
   ]
  },
  {
   "cell_type": "code",
   "execution_count": 8,
   "metadata": {},
   "outputs": [
    {
     "name": "stdout",
     "output_type": "stream",
     "text": [
      "4 -> 2 -> 5 -> 1 -> 3\n",
      "1 -> 4 -> 2 -> 5 -> 3\n",
      "4 -> 2 -> 5 -> 3 -> 1\n"
     ]
    }
   ],
   "source": [
    "print(' -> '.join(item for item in root.in_order()))\n",
    "print(' -> '.join(item for item in root.pre_order()))\n",
    "print(' -> '.join(item for item in root.post_order()))"
   ]
  },
  {
   "cell_type": "markdown",
   "metadata": {},
   "source": [
    "# Implement a timer"
   ]
  },
  {
   "cell_type": "code",
   "execution_count": 9,
   "metadata": {},
   "outputs": [],
   "source": [
    "import time\n",
    "\n",
    "class myTimer:\n",
    "    \"\"\"\n",
    "    myTimer is a timer that can be used as a decorator and as a context manager\n",
    "    \"\"\"\n",
    "    \n",
    "    def __init__(self):\n",
    "        self.start_time = 0\n",
    "    \n",
    "    def __call__(self, func):\n",
    "        \n",
    "        def inner(x):\n",
    "            self.start_time = time.time()\n",
    "            func(x)\n",
    "            print(f\"--- {time.time() - self.start_time} seconds ---\")\n",
    "        \n",
    "        return inner\n",
    "    \n",
    "    def __enter__(self):\n",
    "        self.start_time = time.time()\n",
    "        return self\n",
    "    \n",
    "    def __exit__(self, exc_type, exc_value, traceback):\n",
    "        print(f\"--- {time.time() - self.start_time} seconds ---\")"
   ]
  },
  {
   "cell_type": "code",
   "execution_count": 10,
   "metadata": {},
   "outputs": [
    {
     "name": "stdout",
     "output_type": "stream",
     "text": [
      "--- 3.0072097778320312 seconds ---\n"
     ]
    }
   ],
   "source": [
    "with myTimer() as timer:\n",
    "    time.sleep(3)"
   ]
  },
  {
   "cell_type": "code",
   "execution_count": 11,
   "metadata": {},
   "outputs": [
    {
     "name": "stdout",
     "output_type": "stream",
     "text": [
      "--- 3.009202241897583 seconds ---\n"
     ]
    }
   ],
   "source": [
    "@timer\n",
    "def sleep(secs):\n",
    "    time.sleep(secs)\n",
    "\n",
    "sleep(3)"
   ]
  },
  {
   "cell_type": "code",
   "execution_count": null,
   "metadata": {},
   "outputs": [],
   "source": []
  }
 ],
 "metadata": {
  "kernelspec": {
   "display_name": "Python 3",
   "language": "python",
   "name": "python3"
  },
  "language_info": {
   "codemirror_mode": {
    "name": "ipython",
    "version": 3
   },
   "file_extension": ".py",
   "mimetype": "text/x-python",
   "name": "python",
   "nbconvert_exporter": "python",
   "pygments_lexer": "ipython3",
   "version": "3.7.7"
  },
  "toc": {
   "base_numbering": 1,
   "nav_menu": {},
   "number_sections": true,
   "sideBar": true,
   "skip_h1_title": false,
   "title_cell": "Table of Contents",
   "title_sidebar": "Contents",
   "toc_cell": false,
   "toc_position": {},
   "toc_section_display": true,
   "toc_window_display": false
  }
 },
 "nbformat": 4,
 "nbformat_minor": 4
}
