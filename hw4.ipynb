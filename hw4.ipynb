{
 "cells": [
  {
   "cell_type": "code",
   "execution_count": 1,
   "metadata": {},
   "outputs": [],
   "source": [
    "import numpy as np\n",
    "import pandas as pd"
   ]
  },
  {
   "cell_type": "code",
   "execution_count": 2,
   "metadata": {},
   "outputs": [],
   "source": [
    "from zipfile import ZipFile\n",
    "file = ZipFile('./compustat.zip','r')"
   ]
  },
  {
   "cell_type": "code",
   "execution_count": 3,
   "metadata": {},
   "outputs": [],
   "source": [
    "df = pd.read_csv(file.open('compustat.csv'))"
   ]
  },
  {
   "cell_type": "code",
   "execution_count": 4,
   "metadata": {},
   "outputs": [
    {
     "data": {
      "text/html": [
       "<div>\n",
       "<style scoped>\n",
       "    .dataframe tbody tr th:only-of-type {\n",
       "        vertical-align: middle;\n",
       "    }\n",
       "\n",
       "    .dataframe tbody tr th {\n",
       "        vertical-align: top;\n",
       "    }\n",
       "\n",
       "    .dataframe thead th {\n",
       "        text-align: right;\n",
       "    }\n",
       "</style>\n",
       "<table border=\"1\" class=\"dataframe\">\n",
       "  <thead>\n",
       "    <tr style=\"text-align: right;\">\n",
       "      <th></th>\n",
       "      <th>gvkey</th>\n",
       "      <th>datadate</th>\n",
       "      <th>fyearq</th>\n",
       "      <th>fqtr</th>\n",
       "      <th>indfmt</th>\n",
       "      <th>consol</th>\n",
       "      <th>popsrc</th>\n",
       "      <th>datafmt</th>\n",
       "      <th>cusip</th>\n",
       "      <th>curcdq</th>\n",
       "      <th>datacqtr</th>\n",
       "      <th>datafqtr</th>\n",
       "      <th>cshoq</th>\n",
       "      <th>saleq</th>\n",
       "      <th>costat</th>\n",
       "      <th>prccq</th>\n",
       "      <th>sic</th>\n",
       "    </tr>\n",
       "  </thead>\n",
       "  <tbody>\n",
       "    <tr>\n",
       "      <th>0</th>\n",
       "      <td>1000</td>\n",
       "      <td>19660331</td>\n",
       "      <td>1966</td>\n",
       "      <td>1</td>\n",
       "      <td>INDL</td>\n",
       "      <td>C</td>\n",
       "      <td>D</td>\n",
       "      <td>STD</td>\n",
       "      <td>000032102</td>\n",
       "      <td>USD</td>\n",
       "      <td>1966Q1</td>\n",
       "      <td>1966Q1</td>\n",
       "      <td>0.219</td>\n",
       "      <td>NaN</td>\n",
       "      <td>I</td>\n",
       "      <td>NaN</td>\n",
       "      <td>3089.0</td>\n",
       "    </tr>\n",
       "    <tr>\n",
       "      <th>1</th>\n",
       "      <td>1000</td>\n",
       "      <td>19660630</td>\n",
       "      <td>1966</td>\n",
       "      <td>2</td>\n",
       "      <td>INDL</td>\n",
       "      <td>C</td>\n",
       "      <td>D</td>\n",
       "      <td>STD</td>\n",
       "      <td>000032102</td>\n",
       "      <td>USD</td>\n",
       "      <td>1966Q2</td>\n",
       "      <td>1966Q2</td>\n",
       "      <td>0.219</td>\n",
       "      <td>NaN</td>\n",
       "      <td>I</td>\n",
       "      <td>NaN</td>\n",
       "      <td>3089.0</td>\n",
       "    </tr>\n",
       "    <tr>\n",
       "      <th>2</th>\n",
       "      <td>1000</td>\n",
       "      <td>19660930</td>\n",
       "      <td>1966</td>\n",
       "      <td>3</td>\n",
       "      <td>INDL</td>\n",
       "      <td>C</td>\n",
       "      <td>D</td>\n",
       "      <td>STD</td>\n",
       "      <td>000032102</td>\n",
       "      <td>USD</td>\n",
       "      <td>1966Q3</td>\n",
       "      <td>1966Q3</td>\n",
       "      <td>0.219</td>\n",
       "      <td>NaN</td>\n",
       "      <td>I</td>\n",
       "      <td>NaN</td>\n",
       "      <td>3089.0</td>\n",
       "    </tr>\n",
       "    <tr>\n",
       "      <th>3</th>\n",
       "      <td>1000</td>\n",
       "      <td>19661231</td>\n",
       "      <td>1966</td>\n",
       "      <td>4</td>\n",
       "      <td>INDL</td>\n",
       "      <td>C</td>\n",
       "      <td>D</td>\n",
       "      <td>STD</td>\n",
       "      <td>000032102</td>\n",
       "      <td>USD</td>\n",
       "      <td>1966Q4</td>\n",
       "      <td>1966Q4</td>\n",
       "      <td>0.219</td>\n",
       "      <td>4.032</td>\n",
       "      <td>I</td>\n",
       "      <td>NaN</td>\n",
       "      <td>3089.0</td>\n",
       "    </tr>\n",
       "    <tr>\n",
       "      <th>4</th>\n",
       "      <td>1000</td>\n",
       "      <td>19670331</td>\n",
       "      <td>1967</td>\n",
       "      <td>1</td>\n",
       "      <td>INDL</td>\n",
       "      <td>C</td>\n",
       "      <td>D</td>\n",
       "      <td>STD</td>\n",
       "      <td>000032102</td>\n",
       "      <td>USD</td>\n",
       "      <td>1967Q1</td>\n",
       "      <td>1967Q1</td>\n",
       "      <td>0.277</td>\n",
       "      <td>NaN</td>\n",
       "      <td>I</td>\n",
       "      <td>NaN</td>\n",
       "      <td>3089.0</td>\n",
       "    </tr>\n",
       "  </tbody>\n",
       "</table>\n",
       "</div>"
      ],
      "text/plain": [
       "   gvkey  datadate  fyearq  fqtr indfmt consol popsrc datafmt      cusip  \\\n",
       "0   1000  19660331    1966     1   INDL      C      D     STD  000032102   \n",
       "1   1000  19660630    1966     2   INDL      C      D     STD  000032102   \n",
       "2   1000  19660930    1966     3   INDL      C      D     STD  000032102   \n",
       "3   1000  19661231    1966     4   INDL      C      D     STD  000032102   \n",
       "4   1000  19670331    1967     1   INDL      C      D     STD  000032102   \n",
       "\n",
       "  curcdq datacqtr datafqtr  cshoq  saleq costat  prccq     sic  \n",
       "0    USD   1966Q1   1966Q1  0.219    NaN      I    NaN  3089.0  \n",
       "1    USD   1966Q2   1966Q2  0.219    NaN      I    NaN  3089.0  \n",
       "2    USD   1966Q3   1966Q3  0.219    NaN      I    NaN  3089.0  \n",
       "3    USD   1966Q4   1966Q4  0.219  4.032      I    NaN  3089.0  \n",
       "4    USD   1967Q1   1967Q1  0.277    NaN      I    NaN  3089.0  "
      ]
     },
     "execution_count": 4,
     "metadata": {},
     "output_type": "execute_result"
    }
   ],
   "source": [
    "df.head()"
   ]
  },
  {
   "cell_type": "code",
   "execution_count": 5,
   "metadata": {},
   "outputs": [
    {
     "data": {
      "text/plain": [
       "(1811299, 17)"
      ]
     },
     "execution_count": 5,
     "metadata": {},
     "output_type": "execute_result"
    }
   ],
   "source": [
    "df.shape"
   ]
  },
  {
   "cell_type": "code",
   "execution_count": 6,
   "metadata": {},
   "outputs": [],
   "source": [
    "# select only the columns that we are interested in\n",
    "df = df[['cusip', 'datacqtr', 'saleq', 'sic', 'prccq', 'cshoq']]"
   ]
  },
  {
   "cell_type": "code",
   "execution_count": 7,
   "metadata": {},
   "outputs": [],
   "source": [
    "# market cap needs additional calculation\n",
    "df['mktcap'] = df['prccq'] * df['cshoq']"
   ]
  },
  {
   "cell_type": "code",
   "execution_count": 8,
   "metadata": {},
   "outputs": [
    {
     "data": {
      "text/plain": [
       "(1811299, 7)"
      ]
     },
     "execution_count": 8,
     "metadata": {},
     "output_type": "execute_result"
    }
   ],
   "source": [
    "df.shape"
   ]
  },
  {
   "cell_type": "markdown",
   "metadata": {},
   "source": [
    "# Compute Statistics for saleq and mktcap"
   ]
  },
  {
   "cell_type": "markdown",
   "metadata": {},
   "source": [
    "mean"
   ]
  },
  {
   "cell_type": "code",
   "execution_count": 10,
   "metadata": {},
   "outputs": [
    {
     "data": {
      "text/plain": [
       "445.1506638794502"
      ]
     },
     "execution_count": 10,
     "metadata": {},
     "output_type": "execute_result"
    }
   ],
   "source": [
    "df['saleq'].mean()"
   ]
  },
  {
   "cell_type": "code",
   "execution_count": 11,
   "metadata": {},
   "outputs": [
    {
     "data": {
      "text/plain": [
       "2057.4731042025583"
      ]
     },
     "execution_count": 11,
     "metadata": {},
     "output_type": "execute_result"
    }
   ],
   "source": [
    "df['mktcap'].mean()"
   ]
  },
  {
   "cell_type": "markdown",
   "metadata": {},
   "source": [
    "standard deviation"
   ]
  },
  {
   "cell_type": "code",
   "execution_count": 12,
   "metadata": {},
   "outputs": [
    {
     "data": {
      "text/plain": [
       "2679.7065764082604"
      ]
     },
     "execution_count": 12,
     "metadata": {},
     "output_type": "execute_result"
    }
   ],
   "source": [
    "df['saleq'].std()"
   ]
  },
  {
   "cell_type": "code",
   "execution_count": 13,
   "metadata": {},
   "outputs": [
    {
     "data": {
      "text/plain": [
       "13202.197457099019"
      ]
     },
     "execution_count": 13,
     "metadata": {},
     "output_type": "execute_result"
    }
   ],
   "source": [
    "df['mktcap'].std()"
   ]
  },
  {
   "cell_type": "markdown",
   "metadata": {},
   "source": [
    "count of missing values"
   ]
  },
  {
   "cell_type": "code",
   "execution_count": 14,
   "metadata": {},
   "outputs": [
    {
     "data": {
      "text/plain": [
       "saleq     269498\n",
       "mktcap    468276\n",
       "dtype: int64"
      ]
     },
     "execution_count": 14,
     "metadata": {},
     "output_type": "execute_result"
    }
   ],
   "source": [
    "df.isna().sum()[['saleq', 'mktcap']]"
   ]
  },
  {
   "cell_type": "markdown",
   "metadata": {},
   "source": [
    "ratio of missing values"
   ]
  },
  {
   "cell_type": "code",
   "execution_count": 15,
   "metadata": {},
   "outputs": [
    {
     "data": {
      "text/plain": [
       "saleq     0.148787\n",
       "mktcap    0.258530\n",
       "dtype: float64"
      ]
     },
     "execution_count": 15,
     "metadata": {},
     "output_type": "execute_result"
    }
   ],
   "source": [
    "df.isna().sum()[['saleq', 'mktcap']] / df.shape[0]"
   ]
  },
  {
   "cell_type": "markdown",
   "metadata": {},
   "source": [
    "aggregate the result in a dataframe"
   ]
  },
  {
   "cell_type": "code",
   "execution_count": 16,
   "metadata": {},
   "outputs": [],
   "source": [
    "result = pd.DataFrame(columns = ['saleq', 'mktcap'], index = ['mean', 'std', 'nan', 'nan ratio'])"
   ]
  },
  {
   "cell_type": "code",
   "execution_count": 17,
   "metadata": {},
   "outputs": [],
   "source": [
    "result.loc['mean', 'saleq'] = df['saleq'].mean()\n",
    "result.loc['mean', 'mktcap'] = df['mktcap'].mean()\n",
    "\n",
    "result.loc['std', 'saleq'] = df['saleq'].std()\n",
    "result.loc['std', 'mktcap'] = df['mktcap'].std()\n",
    "\n",
    "result.loc['nan', 'saleq'] = df['saleq'].isna().sum()\n",
    "result.loc['nan', 'mktcap'] = df['mktcap'].isna().sum()\n",
    "\n",
    "result.loc['nan ratio', 'saleq'] = result.loc['nan', 'saleq'] / df.shape[0]\n",
    "result.loc['nan ratio', 'mktcap'] = result.loc['nan', 'mktcap'] / df.shape[0]"
   ]
  },
  {
   "cell_type": "code",
   "execution_count": 18,
   "metadata": {},
   "outputs": [
    {
     "data": {
      "text/html": [
       "<div>\n",
       "<style scoped>\n",
       "    .dataframe tbody tr th:only-of-type {\n",
       "        vertical-align: middle;\n",
       "    }\n",
       "\n",
       "    .dataframe tbody tr th {\n",
       "        vertical-align: top;\n",
       "    }\n",
       "\n",
       "    .dataframe thead th {\n",
       "        text-align: right;\n",
       "    }\n",
       "</style>\n",
       "<table border=\"1\" class=\"dataframe\">\n",
       "  <thead>\n",
       "    <tr style=\"text-align: right;\">\n",
       "      <th></th>\n",
       "      <th>saleq</th>\n",
       "      <th>mktcap</th>\n",
       "    </tr>\n",
       "  </thead>\n",
       "  <tbody>\n",
       "    <tr>\n",
       "      <th>mean</th>\n",
       "      <td>445.151</td>\n",
       "      <td>2057.47</td>\n",
       "    </tr>\n",
       "    <tr>\n",
       "      <th>std</th>\n",
       "      <td>2679.71</td>\n",
       "      <td>13202.2</td>\n",
       "    </tr>\n",
       "    <tr>\n",
       "      <th>nan</th>\n",
       "      <td>269498</td>\n",
       "      <td>468276</td>\n",
       "    </tr>\n",
       "    <tr>\n",
       "      <th>nan ratio</th>\n",
       "      <td>0.148787</td>\n",
       "      <td>0.25853</td>\n",
       "    </tr>\n",
       "  </tbody>\n",
       "</table>\n",
       "</div>"
      ],
      "text/plain": [
       "              saleq   mktcap\n",
       "mean        445.151  2057.47\n",
       "std         2679.71  13202.2\n",
       "nan          269498   468276\n",
       "nan ratio  0.148787  0.25853"
      ]
     },
     "execution_count": 18,
     "metadata": {},
     "output_type": "execute_result"
    }
   ],
   "source": [
    "result"
   ]
  },
  {
   "cell_type": "markdown",
   "metadata": {},
   "source": [
    "# Outliers"
   ]
  },
  {
   "cell_type": "code",
   "execution_count": 19,
   "metadata": {},
   "outputs": [],
   "source": [
    "from matplotlib import pyplot as plt"
   ]
  },
  {
   "cell_type": "code",
   "execution_count": 20,
   "metadata": {},
   "outputs": [
    {
     "data": {
      "text/plain": [
       "<AxesSubplot:>"
      ]
     },
     "execution_count": 20,
     "metadata": {},
     "output_type": "execute_result"
    },
    {
     "data": {
      "image/png": "[encoded data removed]",
      "text/plain": [
       "<Figure size 432x288 with 1 Axes>"
      ]
     },
     "metadata": {
      "needs_background": "light"
     },
     "output_type": "display_data"
    }
   ],
   "source": [
    "df['saleq'].plot()"
   ]
  },
  {
   "cell_type": "code",
   "execution_count": 21,
   "metadata": {},
   "outputs": [
    {
     "data": {
      "text/plain": [
       "<AxesSubplot:>"
      ]
     },
     "execution_count": 21,
     "metadata": {},
     "output_type": "execute_result"
    },
    {
     "data": {
      "image/png": "[encoded data removed]",
      "text/plain": [
       "<Figure size 432x288 with 1 Axes>"
      ]
     },
     "metadata": {
      "needs_background": "light"
     },
     "output_type": "display_data"
    }
   ],
   "source": [
    "df['mktcap'].plot()"
   ]
  },
  {
   "cell_type": "markdown",
   "metadata": {},
   "source": [
    "we can see there are many outliers"
   ]
  },
  {
   "cell_type": "markdown",
   "metadata": {},
   "source": [
    "implement a scheme: boxplot"
   ]
  },
  {
   "cell_type": "code",
   "execution_count": 22,
   "metadata": {},
   "outputs": [
    {
     "data": {
      "text/plain": [
       "{'whiskers': [<matplotlib.lines.Line2D at 0x7f60e92fb550>,\n",
       "  <matplotlib.lines.Line2D at 0x7f60e92fb990>],\n",
       " 'caps': [<matplotlib.lines.Line2D at 0x7f60e92fbdd0>,\n",
       "  <matplotlib.lines.Line2D at 0x7f60e92fb790>],\n",
       " 'boxes': [<matplotlib.lines.Line2D at 0x7f60e93c6990>],\n",
       " 'medians': [<matplotlib.lines.Line2D at 0x7f60e93076d0>],\n",
       " 'fliers': [<matplotlib.lines.Line2D at 0x7f60e9307b10>],\n",
       " 'means': []}"
      ]
     },
     "execution_count": 22,
     "metadata": {},
     "output_type": "execute_result"
    },
    {
     "data": {
      "image/png": "[encoded data removed]",
      "text/plain": [
       "<Figure size 432x288 with 1 Axes>"
      ]
     },
     "metadata": {
      "needs_background": "light"
     },
     "output_type": "display_data"
    }
   ],
   "source": [
    "plt.boxplot(df['saleq'].dropna())"
   ]
  },
  {
   "cell_type": "code",
   "execution_count": 23,
   "metadata": {},
   "outputs": [
    {
     "data": {
      "text/plain": [
       "{'whiskers': [<matplotlib.lines.Line2D at 0x7f60e926a3d0>,\n",
       "  <matplotlib.lines.Line2D at 0x7f60e926a810>],\n",
       " 'caps': [<matplotlib.lines.Line2D at 0x7f60e926ac50>,\n",
       "  <matplotlib.lines.Line2D at 0x7f60e92760d0>],\n",
       " 'boxes': [<matplotlib.lines.Line2D at 0x7f60e92bc710>],\n",
       " 'medians': [<matplotlib.lines.Line2D at 0x7f60e9276550>],\n",
       " 'fliers': [<matplotlib.lines.Line2D at 0x7f60e9276990>],\n",
       " 'means': []}"
      ]
     },
     "execution_count": 23,
     "metadata": {},
     "output_type": "execute_result"
    },
    {
     "data": {
      "image/png": "[encoded data removed]",
      "text/plain": [
       "<Figure size 432x288 with 1 Axes>"
      ]
     },
     "metadata": {
      "needs_background": "light"
     },
     "output_type": "display_data"
    }
   ],
   "source": [
    "plt.boxplot(df['mktcap'].dropna())"
   ]
  },
  {
   "cell_type": "markdown",
   "metadata": {},
   "source": [
    "There are many outliers. In fact, there are too many outliers that the box in the box plot is too thin to be a box.\n",
    "The reason could be that \"sales of the current quarter\" and \"market cap\" both indicate the scale of a company. Most of the companies are of smaller scale, while some big companies can be very big. That's why we observe an extremely  skewed distribution."
   ]
  },
  {
   "cell_type": "markdown",
   "metadata": {},
   "source": [
    "From table 2, we observe that the std for both indicators are large. That's also because of the reason mentioned above."
   ]
  },
  {
   "cell_type": "markdown",
   "metadata": {},
   "source": [
    "# Compute Industry Concentration"
   ]
  },
  {
   "cell_type": "code",
   "execution_count": 9,
   "metadata": {},
   "outputs": [],
   "source": [
    "df['ind'] = df['sic'].astype('str')  # industry code"
   ]
  },
  {
   "cell_type": "code",
   "execution_count": 10,
   "metadata": {},
   "outputs": [],
   "source": [
    "df['ind'] = df['ind'].str[:2]"
   ]
  },
  {
   "cell_type": "code",
   "execution_count": 11,
   "metadata": {},
   "outputs": [
    {
     "data": {
      "text/html": [
       "<div>\n",
       "<style scoped>\n",
       "    .dataframe tbody tr th:only-of-type {\n",
       "        vertical-align: middle;\n",
       "    }\n",
       "\n",
       "    .dataframe tbody tr th {\n",
       "        vertical-align: top;\n",
       "    }\n",
       "\n",
       "    .dataframe thead th {\n",
       "        text-align: right;\n",
       "    }\n",
       "</style>\n",
       "<table border=\"1\" class=\"dataframe\">\n",
       "  <thead>\n",
       "    <tr style=\"text-align: right;\">\n",
       "      <th></th>\n",
       "      <th>cusip</th>\n",
       "      <th>datacqtr</th>\n",
       "      <th>saleq</th>\n",
       "      <th>sic</th>\n",
       "      <th>prccq</th>\n",
       "      <th>cshoq</th>\n",
       "      <th>mktcap</th>\n",
       "      <th>ind</th>\n",
       "    </tr>\n",
       "  </thead>\n",
       "  <tbody>\n",
       "    <tr>\n",
       "      <th>0</th>\n",
       "      <td>000032102</td>\n",
       "      <td>1966Q1</td>\n",
       "      <td>NaN</td>\n",
       "      <td>3089.0</td>\n",
       "      <td>NaN</td>\n",
       "      <td>0.219</td>\n",
       "      <td>NaN</td>\n",
       "      <td>30</td>\n",
       "    </tr>\n",
       "    <tr>\n",
       "      <th>1</th>\n",
       "      <td>000032102</td>\n",
       "      <td>1966Q2</td>\n",
       "      <td>NaN</td>\n",
       "      <td>3089.0</td>\n",
       "      <td>NaN</td>\n",
       "      <td>0.219</td>\n",
       "      <td>NaN</td>\n",
       "      <td>30</td>\n",
       "    </tr>\n",
       "    <tr>\n",
       "      <th>2</th>\n",
       "      <td>000032102</td>\n",
       "      <td>1966Q3</td>\n",
       "      <td>NaN</td>\n",
       "      <td>3089.0</td>\n",
       "      <td>NaN</td>\n",
       "      <td>0.219</td>\n",
       "      <td>NaN</td>\n",
       "      <td>30</td>\n",
       "    </tr>\n",
       "    <tr>\n",
       "      <th>3</th>\n",
       "      <td>000032102</td>\n",
       "      <td>1966Q4</td>\n",
       "      <td>4.032</td>\n",
       "      <td>3089.0</td>\n",
       "      <td>NaN</td>\n",
       "      <td>0.219</td>\n",
       "      <td>NaN</td>\n",
       "      <td>30</td>\n",
       "    </tr>\n",
       "    <tr>\n",
       "      <th>4</th>\n",
       "      <td>000032102</td>\n",
       "      <td>1967Q1</td>\n",
       "      <td>NaN</td>\n",
       "      <td>3089.0</td>\n",
       "      <td>NaN</td>\n",
       "      <td>0.277</td>\n",
       "      <td>NaN</td>\n",
       "      <td>30</td>\n",
       "    </tr>\n",
       "  </tbody>\n",
       "</table>\n",
       "</div>"
      ],
      "text/plain": [
       "       cusip datacqtr  saleq     sic  prccq  cshoq  mktcap ind\n",
       "0  000032102   1966Q1    NaN  3089.0    NaN  0.219     NaN  30\n",
       "1  000032102   1966Q2    NaN  3089.0    NaN  0.219     NaN  30\n",
       "2  000032102   1966Q3    NaN  3089.0    NaN  0.219     NaN  30\n",
       "3  000032102   1966Q4  4.032  3089.0    NaN  0.219     NaN  30\n",
       "4  000032102   1967Q1    NaN  3089.0    NaN  0.277     NaN  30"
      ]
     },
     "execution_count": 11,
     "metadata": {},
     "output_type": "execute_result"
    }
   ],
   "source": [
    "df.head()"
   ]
  },
  {
   "cell_type": "code",
   "execution_count": 12,
   "metadata": {},
   "outputs": [
    {
     "data": {
      "text/plain": [
       "array(['30', '58', '57', '50', '37', '27', '36', '35', '34', '48', '33',\n",
       "       '65', '38', '73', '32', '45', '67', '79', '39', '20', '28', '78',\n",
       "       '23', '87', '49', '59', '26', '56', '13', '51', '63', '22', '60',\n",
       "       '62', '99', '10', '47', '12', '54', '64', '44', '70', '80', '53',\n",
       "       '42', '61', '75', '17', '14', '15', '25', '31', '24', '29', '72',\n",
       "       '46', '40', '16', '82', '21', '55', '52', '83', '41', '90', '84',\n",
       "       '76', '89', 'na', '81', '86'], dtype=object)"
      ]
     },
     "execution_count": 12,
     "metadata": {},
     "output_type": "execute_result"
    }
   ],
   "source": [
    "df.ind.unique()  # there shouldn't be 'na' in industry"
   ]
  },
  {
   "cell_type": "code",
   "execution_count": 25,
   "metadata": {},
   "outputs": [],
   "source": [
    "df.dropna(axis = 0, subset = ['sic', 'mktcap'], inplace = True)"
   ]
  },
  {
   "cell_type": "code",
   "execution_count": 26,
   "metadata": {},
   "outputs": [
    {
     "data": {
      "text/plain": [
       "array(['30', '58', '57', '50', '37', '27', '36', '35', '34', '48', '33',\n",
       "       '65', '38', '73', '32', '45', '67', '79', '39', '28', '78', '23',\n",
       "       '87', '49', '26', '56', '13', '51', '63', '59', '22', '60', '62',\n",
       "       '99', '10', '47', '12', '54', '64', '44', '20', '70', '80', '53',\n",
       "       '42', '75', '17', '14', '15', '61', '25', '31', '24', '29', '72',\n",
       "       '16', '40', '21', '82', '55', '52', '83', '41', '90', '84', '76',\n",
       "       '46', '89', '81', '86'], dtype=object)"
      ]
     },
     "execution_count": 26,
     "metadata": {},
     "output_type": "execute_result"
    }
   ],
   "source": [
    "df.ind.unique()"
   ]
  },
  {
   "cell_type": "code",
   "execution_count": 27,
   "metadata": {},
   "outputs": [
    {
     "data": {
      "text/plain": [
       "70"
      ]
     },
     "execution_count": 27,
     "metadata": {},
     "output_type": "execute_result"
    }
   ],
   "source": [
    "len(df.ind.unique())"
   ]
  },
  {
   "cell_type": "code",
   "execution_count": 28,
   "metadata": {},
   "outputs": [],
   "source": [
    "df['total_mktcap'] = df.groupby(['ind', 'datacqtr'])['mktcap'].transform('sum')  # total market cap"
   ]
  },
  {
   "cell_type": "code",
   "execution_count": 29,
   "metadata": {},
   "outputs": [],
   "source": [
    "df['mktshare'] = df['mktcap'] / df['total_mktcap'] * 100"
   ]
  },
  {
   "cell_type": "code",
   "execution_count": 30,
   "metadata": {},
   "outputs": [],
   "source": [
    "df['mktshare_square'] = df['mktshare'] ** 2"
   ]
  },
  {
   "cell_type": "code",
   "execution_count": 31,
   "metadata": {},
   "outputs": [],
   "source": [
    "df['HHI'] = df.groupby(['ind', 'datacqtr'])['mktshare_square'].transform('sum')"
   ]
  },
  {
   "cell_type": "code",
   "execution_count": 32,
   "metadata": {},
   "outputs": [
    {
     "data": {
      "text/html": [
       "<div>\n",
       "<style scoped>\n",
       "    .dataframe tbody tr th:only-of-type {\n",
       "        vertical-align: middle;\n",
       "    }\n",
       "\n",
       "    .dataframe tbody tr th {\n",
       "        vertical-align: top;\n",
       "    }\n",
       "\n",
       "    .dataframe thead th {\n",
       "        text-align: right;\n",
       "    }\n",
       "</style>\n",
       "<table border=\"1\" class=\"dataframe\">\n",
       "  <thead>\n",
       "    <tr style=\"text-align: right;\">\n",
       "      <th></th>\n",
       "      <th>cusip</th>\n",
       "      <th>datacqtr</th>\n",
       "      <th>saleq</th>\n",
       "      <th>sic</th>\n",
       "      <th>prccq</th>\n",
       "      <th>cshoq</th>\n",
       "      <th>mktcap</th>\n",
       "      <th>ind</th>\n",
       "      <th>total_mktcap</th>\n",
       "      <th>mktshare</th>\n",
       "      <th>mktshare_square</th>\n",
       "      <th>HHI</th>\n",
       "    </tr>\n",
       "  </thead>\n",
       "  <tbody>\n",
       "    <tr>\n",
       "      <th>18</th>\n",
       "      <td>000032102</td>\n",
       "      <td>1970Q3</td>\n",
       "      <td>10.698</td>\n",
       "      <td>3089.0</td>\n",
       "      <td>11.750</td>\n",
       "      <td>2.230</td>\n",
       "      <td>26.202500</td>\n",
       "      <td>30</td>\n",
       "      <td>6289.293375</td>\n",
       "      <td>0.416621</td>\n",
       "      <td>0.173573</td>\n",
       "      <td>1682.455305</td>\n",
       "    </tr>\n",
       "    <tr>\n",
       "      <th>19</th>\n",
       "      <td>000032102</td>\n",
       "      <td>1970Q4</td>\n",
       "      <td>10.919</td>\n",
       "      <td>3089.0</td>\n",
       "      <td>10.000</td>\n",
       "      <td>2.446</td>\n",
       "      <td>24.460000</td>\n",
       "      <td>30</td>\n",
       "      <td>8067.256308</td>\n",
       "      <td>0.303201</td>\n",
       "      <td>0.091931</td>\n",
       "      <td>1424.771672</td>\n",
       "    </tr>\n",
       "    <tr>\n",
       "      <th>20</th>\n",
       "      <td>000032102</td>\n",
       "      <td>1971Q1</td>\n",
       "      <td>7.983</td>\n",
       "      <td>3089.0</td>\n",
       "      <td>9.750</td>\n",
       "      <td>3.507</td>\n",
       "      <td>34.193250</td>\n",
       "      <td>30</td>\n",
       "      <td>8700.795835</td>\n",
       "      <td>0.392990</td>\n",
       "      <td>0.154441</td>\n",
       "      <td>1292.447644</td>\n",
       "    </tr>\n",
       "    <tr>\n",
       "      <th>21</th>\n",
       "      <td>000032102</td>\n",
       "      <td>1971Q2</td>\n",
       "      <td>9.885</td>\n",
       "      <td>3089.0</td>\n",
       "      <td>8.250</td>\n",
       "      <td>3.518</td>\n",
       "      <td>29.023500</td>\n",
       "      <td>30</td>\n",
       "      <td>9039.093803</td>\n",
       "      <td>0.321089</td>\n",
       "      <td>0.103098</td>\n",
       "      <td>1296.213826</td>\n",
       "    </tr>\n",
       "    <tr>\n",
       "      <th>22</th>\n",
       "      <td>000032102</td>\n",
       "      <td>1971Q3</td>\n",
       "      <td>7.975</td>\n",
       "      <td>3089.0</td>\n",
       "      <td>4.625</td>\n",
       "      <td>3.515</td>\n",
       "      <td>16.256875</td>\n",
       "      <td>30</td>\n",
       "      <td>9224.606151</td>\n",
       "      <td>0.176234</td>\n",
       "      <td>0.031058</td>\n",
       "      <td>1289.251544</td>\n",
       "    </tr>\n",
       "  </tbody>\n",
       "</table>\n",
       "</div>"
      ],
      "text/plain": [
       "        cusip datacqtr   saleq     sic   prccq  cshoq     mktcap ind  \\\n",
       "18  000032102   1970Q3  10.698  3089.0  11.750  2.230  26.202500  30   \n",
       "19  000032102   1970Q4  10.919  3089.0  10.000  2.446  24.460000  30   \n",
       "20  000032102   1971Q1   7.983  3089.0   9.750  3.507  34.193250  30   \n",
       "21  000032102   1971Q2   9.885  3089.0   8.250  3.518  29.023500  30   \n",
       "22  000032102   1971Q3   7.975  3089.0   4.625  3.515  16.256875  30   \n",
       "\n",
       "    total_mktcap  mktshare  mktshare_square          HHI  \n",
       "18   6289.293375  0.416621         0.173573  1682.455305  \n",
       "19   8067.256308  0.303201         0.091931  1424.771672  \n",
       "20   8700.795835  0.392990         0.154441  1292.447644  \n",
       "21   9039.093803  0.321089         0.103098  1296.213826  \n",
       "22   9224.606151  0.176234         0.031058  1289.251544  "
      ]
     },
     "execution_count": 32,
     "metadata": {},
     "output_type": "execute_result"
    }
   ],
   "source": [
    "df.head()"
   ]
  },
  {
   "cell_type": "code",
   "execution_count": 34,
   "metadata": {},
   "outputs": [],
   "source": [
    "df['HHI_avg'] = df.groupby('ind')['HHI'].transform('mean')  # average through time"
   ]
  },
  {
   "cell_type": "code",
   "execution_count": 41,
   "metadata": {},
   "outputs": [],
   "source": [
    "HHI = df[['ind', 'HHI_avg']].drop_duplicates()"
   ]
  },
  {
   "cell_type": "code",
   "execution_count": 42,
   "metadata": {},
   "outputs": [
    {
     "data": {
      "text/html": [
       "<div>\n",
       "<style scoped>\n",
       "    .dataframe tbody tr th:only-of-type {\n",
       "        vertical-align: middle;\n",
       "    }\n",
       "\n",
       "    .dataframe tbody tr th {\n",
       "        vertical-align: top;\n",
       "    }\n",
       "\n",
       "    .dataframe thead th {\n",
       "        text-align: right;\n",
       "    }\n",
       "</style>\n",
       "<table border=\"1\" class=\"dataframe\">\n",
       "  <thead>\n",
       "    <tr style=\"text-align: right;\">\n",
       "      <th></th>\n",
       "      <th>ind</th>\n",
       "      <th>HHI_avg</th>\n",
       "    </tr>\n",
       "  </thead>\n",
       "  <tbody>\n",
       "    <tr>\n",
       "      <th>18</th>\n",
       "      <td>30</td>\n",
       "      <td>1679.879381</td>\n",
       "    </tr>\n",
       "    <tr>\n",
       "      <th>51</th>\n",
       "      <td>58</td>\n",
       "      <td>2301.091426</td>\n",
       "    </tr>\n",
       "    <tr>\n",
       "      <th>69</th>\n",
       "      <td>57</td>\n",
       "      <td>2718.434494</td>\n",
       "    </tr>\n",
       "    <tr>\n",
       "      <th>100</th>\n",
       "      <td>50</td>\n",
       "      <td>630.210209</td>\n",
       "    </tr>\n",
       "    <tr>\n",
       "      <th>304</th>\n",
       "      <td>37</td>\n",
       "      <td>973.521427</td>\n",
       "    </tr>\n",
       "    <tr>\n",
       "      <th>...</th>\n",
       "      <td>...</td>\n",
       "      <td>...</td>\n",
       "    </tr>\n",
       "    <tr>\n",
       "      <th>351433</th>\n",
       "      <td>76</td>\n",
       "      <td>4897.123485</td>\n",
       "    </tr>\n",
       "    <tr>\n",
       "      <th>580874</th>\n",
       "      <td>46</td>\n",
       "      <td>1778.751859</td>\n",
       "    </tr>\n",
       "    <tr>\n",
       "      <th>708856</th>\n",
       "      <td>89</td>\n",
       "      <td>10000.000000</td>\n",
       "    </tr>\n",
       "    <tr>\n",
       "      <th>1240836</th>\n",
       "      <td>81</td>\n",
       "      <td>9134.847753</td>\n",
       "    </tr>\n",
       "    <tr>\n",
       "      <th>1455994</th>\n",
       "      <td>86</td>\n",
       "      <td>10000.000000</td>\n",
       "    </tr>\n",
       "  </tbody>\n",
       "</table>\n",
       "<p>70 rows × 2 columns</p>\n",
       "</div>"
      ],
      "text/plain": [
       "        ind       HHI_avg\n",
       "18       30   1679.879381\n",
       "51       58   2301.091426\n",
       "69       57   2718.434494\n",
       "100      50    630.210209\n",
       "304      37    973.521427\n",
       "...      ..           ...\n",
       "351433   76   4897.123485\n",
       "580874   46   1778.751859\n",
       "708856   89  10000.000000\n",
       "1240836  81   9134.847753\n",
       "1455994  86  10000.000000\n",
       "\n",
       "[70 rows x 2 columns]"
      ]
     },
     "execution_count": 42,
     "metadata": {},
     "output_type": "execute_result"
    }
   ],
   "source": [
    "HHI"
   ]
  }
 ],
 "metadata": {
  "kernelspec": {
   "display_name": "Python 3",
   "language": "python",
   "name": "python3"
  },
  "language_info": {
   "codemirror_mode": {
    "name": "ipython",
    "version": 3
   },
   "file_extension": ".py",
   "mimetype": "text/x-python",
   "name": "python",
   "nbconvert_exporter": "python",
   "pygments_lexer": "ipython3",
   "version": "3.7.7"
  },
  "toc": {
   "base_numbering": 1,
   "nav_menu": {},
   "number_sections": true,
   "sideBar": true,
   "skip_h1_title": false,
   "title_cell": "Table of Contents",
   "title_sidebar": "Contents",
   "toc_cell": false,
   "toc_position": {},
   "toc_section_display": true,
   "toc_window_display": false
  }
 },
 "nbformat": 4,
 "nbformat_minor": 4
}
