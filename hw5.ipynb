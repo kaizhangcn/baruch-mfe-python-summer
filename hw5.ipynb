{
 "cells": [
  {
   "cell_type": "markdown",
   "metadata": {},
   "source": [
    "# Algorithmic questions"
   ]
  },
  {
   "cell_type": "code",
   "execution_count": 1,
   "metadata": {},
   "outputs": [],
   "source": [
    "def find_nlargest(numlist, k):\n",
    "    '''\n",
    "    Input: a list of numbers and a number k, 1<=k<=list's length\n",
    "    Output: the kth largest number of the list\n",
    "    '''\n",
    "    import heapq\n",
    "    length = len(numlist)\n",
    "    heapq.heapify(numlist)        # make numlist a heap\n",
    "    for i in range(length - k):\n",
    "        heapq.heappop(numlist)    # pop until the root is the kth largest\n",
    "                                  # or effectively the (length - k + 1)th smallest\n",
    "    return heapq.heappop(numlist)"
   ]
  },
  {
   "cell_type": "code",
   "execution_count": 2,
   "metadata": {},
   "outputs": [
    {
     "data": {
      "text/plain": [
       "5"
      ]
     },
     "execution_count": 2,
     "metadata": {},
     "output_type": "execute_result"
    }
   ],
   "source": [
    "# Case 1, given by the question\n",
    "lst = [3,2,1,5,6,4]\n",
    "k = 2\n",
    "find_nlargest(lst, k)"
   ]
  },
  {
   "cell_type": "code",
   "execution_count": 3,
   "metadata": {},
   "outputs": [
    {
     "data": {
      "text/plain": [
       "4"
      ]
     },
     "execution_count": 3,
     "metadata": {},
     "output_type": "execute_result"
    }
   ],
   "source": [
    "# Case 2, given by the question. It contains duplicated elements\n",
    "lst = [3,2,3,1,2,4,5,5,6]\n",
    "k = 4\n",
    "find_nlargest(lst, k)"
   ]
  },
  {
   "cell_type": "code",
   "execution_count": 4,
   "metadata": {},
   "outputs": [
    {
     "data": {
      "text/plain": [
       "0"
      ]
     },
     "execution_count": 4,
     "metadata": {},
     "output_type": "execute_result"
    }
   ],
   "source": [
    "# Case 3, only one element\n",
    "lst = [0]\n",
    "k = 1\n",
    "find_nlargest(lst, k)"
   ]
  },
  {
   "cell_type": "code",
   "execution_count": 5,
   "metadata": {},
   "outputs": [
    {
     "data": {
      "text/plain": [
       "1"
      ]
     },
     "execution_count": 5,
     "metadata": {},
     "output_type": "execute_result"
    }
   ],
   "source": [
    "# Case 4, all elements are equal\n",
    "lst = [1,1,1,1,1]\n",
    "k = 2\n",
    "find_nlargest(lst, k)"
   ]
  },
  {
   "cell_type": "markdown",
   "metadata": {},
   "source": [
    "heapify() has linear complexity. heappop() has log(n) complexity. So the overall time complexity is O(n) + (n - k) * log(n)"
   ]
  },
  {
   "cell_type": "markdown",
   "metadata": {},
   "source": [
    "# Multithreading pop"
   ]
  },
  {
   "cell_type": "code",
   "execution_count": 6,
   "metadata": {},
   "outputs": [],
   "source": [
    "from queue import Queue\n",
    "import threading\n",
    "import time"
   ]
  },
  {
   "cell_type": "code",
   "execution_count": 7,
   "metadata": {},
   "outputs": [],
   "source": [
    "def init(Size = 10000):\n",
    "    '''\n",
    "    Input: positive integer Size\n",
    "    Output: queue\n",
    "    '''\n",
    "    q = Queue(maxsize = Size)\n",
    "    for i in range(Size):\n",
    "        q.put(i)\n",
    "    return q"
   ]
  },
  {
   "cell_type": "code",
   "execution_count": 8,
   "metadata": {},
   "outputs": [],
   "source": [
    "def func(q):\n",
    "    '''\n",
    "    pop from q\n",
    "    '''\n",
    "    while q.empty() == False:\n",
    "        q.get()\n",
    "        time.sleep(0.0001)   # to pretend there is a bigger task"
   ]
  },
  {
   "cell_type": "code",
   "execution_count": 9,
   "metadata": {},
   "outputs": [],
   "source": [
    "def multithreading_pop(q, k):\n",
    "    '''\n",
    "    Input: Queue object q and the number of threads k\n",
    "    Output: None\n",
    "    '''\n",
    "    threads = []\n",
    "    for _ in range(k):\n",
    "        t = threading.Thread(target = func, args = (q, ))\n",
    "        t.start()\n",
    "        threads.append(t)\n",
    "    for i in range(k):\n",
    "        threads[i].join()"
   ]
  },
  {
   "cell_type": "code",
   "execution_count": 10,
   "metadata": {},
   "outputs": [],
   "source": [
    "q = init()"
   ]
  },
  {
   "cell_type": "code",
   "execution_count": 11,
   "metadata": {},
   "outputs": [
    {
     "name": "stdout",
     "output_type": "stream",
     "text": [
      "CPU times: user 961 ms, sys: 158 ms, total: 1.12 s\n",
      "Wall time: 10.7 s\n"
     ]
    }
   ],
   "source": [
    "%time multithreading_pop(q, 1)"
   ]
  },
  {
   "cell_type": "code",
   "execution_count": 12,
   "metadata": {},
   "outputs": [],
   "source": [
    "q = init()"
   ]
  },
  {
   "cell_type": "code",
   "execution_count": 13,
   "metadata": {},
   "outputs": [
    {
     "name": "stdout",
     "output_type": "stream",
     "text": [
      "CPU times: user 233 ms, sys: 159 ms, total: 392 ms\n",
      "Wall time: 775 ms\n"
     ]
    }
   ],
   "source": [
    "%time multithreading_pop(q, 5)"
   ]
  },
  {
   "cell_type": "code",
   "execution_count": 14,
   "metadata": {},
   "outputs": [],
   "source": [
    "q = init()"
   ]
  },
  {
   "cell_type": "code",
   "execution_count": 15,
   "metadata": {},
   "outputs": [
    {
     "name": "stdout",
     "output_type": "stream",
     "text": [
      "CPU times: user 136 ms, sys: 214 ms, total: 350 ms\n",
      "Wall time: 346 ms\n"
     ]
    }
   ],
   "source": [
    "%time multithreading_pop(q, 20)"
   ]
  },
  {
   "cell_type": "markdown",
   "metadata": {},
   "source": [
    "try this: delete the sleeping, see what happens"
   ]
  },
  {
   "cell_type": "code",
   "execution_count": 16,
   "metadata": {},
   "outputs": [],
   "source": [
    "def func2(q):\n",
    "    '''\n",
    "    pop from q\n",
    "    '''\n",
    "    while q.empty() == False:\n",
    "        q.get()"
   ]
  },
  {
   "cell_type": "code",
   "execution_count": 17,
   "metadata": {},
   "outputs": [],
   "source": [
    "def multithreading_pop2(q, k):\n",
    "    '''\n",
    "    Input: Queue object q and the number of threads k\n",
    "    Output: None\n",
    "    '''\n",
    "    threads = []\n",
    "    for _ in range(k):\n",
    "        t = threading.Thread(target = func2, args = (q, ))\n",
    "        t.start()\n",
    "        threads.append(t)\n",
    "    for i in range(k):\n",
    "        threads[i].join()"
   ]
  },
  {
   "cell_type": "code",
   "execution_count": 18,
   "metadata": {},
   "outputs": [],
   "source": [
    "q = init()"
   ]
  },
  {
   "cell_type": "code",
   "execution_count": 19,
   "metadata": {},
   "outputs": [
    {
     "name": "stdout",
     "output_type": "stream",
     "text": [
      "CPU times: user 67.8 ms, sys: 0 ns, total: 67.8 ms\n",
      "Wall time: 94.3 ms\n"
     ]
    }
   ],
   "source": [
    "%time multithreading_pop2(q, 1)"
   ]
  },
  {
   "cell_type": "code",
   "execution_count": 20,
   "metadata": {},
   "outputs": [],
   "source": [
    "q = init()"
   ]
  },
  {
   "cell_type": "code",
   "execution_count": 21,
   "metadata": {},
   "outputs": [
    {
     "name": "stdout",
     "output_type": "stream",
     "text": [
      "CPU times: user 233 ms, sys: 45.1 ms, total: 278 ms\n",
      "Wall time: 604 ms\n"
     ]
    }
   ],
   "source": [
    "%time multithreading_pop(q, 5)"
   ]
  },
  {
   "cell_type": "code",
   "execution_count": 22,
   "metadata": {},
   "outputs": [],
   "source": [
    "q = init()"
   ]
  },
  {
   "cell_type": "code",
   "execution_count": 23,
   "metadata": {},
   "outputs": [
    {
     "name": "stdout",
     "output_type": "stream",
     "text": [
      "CPU times: user 150 ms, sys: 195 ms, total: 345 ms\n",
      "Wall time: 329 ms\n"
     ]
    }
   ],
   "source": [
    "%time multithreading_pop(q, 20)"
   ]
  },
  {
   "cell_type": "markdown",
   "metadata": {},
   "source": [
    "Conclusion:\n",
    "1. multithreading significantly decreases the time of a heavy task\n",
    "2. if you delete the sleeping time, then the result can be different: threads spent too much time on system tasks, e.g. function calls... so the time becomes even longer\n",
    "3. if you compare 5 threads with 20 threads, you can observe that with 20 threads, user time (the time that execute your code) is shorter, and sys time (the time spent on competing for resources...) is longer"
   ]
  },
  {
   "cell_type": "code",
   "execution_count": null,
   "metadata": {},
   "outputs": [],
   "source": []
  }
 ],
 "metadata": {
  "kernelspec": {
   "display_name": "Python 3",
   "language": "python",
   "name": "python3"
  },
  "language_info": {
   "codemirror_mode": {
    "name": "ipython",
    "version": 3
   },
   "file_extension": ".py",
   "mimetype": "text/x-python",
   "name": "python",
   "nbconvert_exporter": "python",
   "pygments_lexer": "ipython3",
   "version": "3.7.7"
  },
  "toc": {
   "base_numbering": 1,
   "nav_menu": {},
   "number_sections": true,
   "sideBar": true,
   "skip_h1_title": false,
   "title_cell": "Table of Contents",
   "title_sidebar": "Contents",
   "toc_cell": false,
   "toc_position": {},
   "toc_section_display": true,
   "toc_window_display": false
  }
 },
 "nbformat": 4,
 "nbformat_minor": 4
}
